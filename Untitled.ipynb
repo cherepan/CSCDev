{
 "cells": [
  {
   "cell_type": "code",
   "execution_count": 1,
   "metadata": {
    "collapsed": false
   },
   "outputs": [
    {
     "name": "stdout",
     "output_type": "stream",
     "text": [
      "CalibMuon\t    Untitled.ipynb  pickevents_26.root\t   runFullChain.sh\r\n",
      "DUMMYFILENAME.root  diff.txt\t    push.sh\t\t   test\r\n",
      "DataFormats\t    eventList.txt   reco_RAW2DIGI_RECO.py  untitled.txt\r\n",
      "GifDisplay\t    gifDisplay.py   rootMakerDiff.txt\t   useCmsDriver.sh\r\n",
      "RecoLocalMuon\t    log.txt\t    run.sh\r\n",
      "UFCSCRootMaker.py   output.txt\t    runAnalysis.sh\r\n",
      "UFCSCSoftware\t    parseOutput.sh  runDisplay.sh\r\n"
     ]
    }
   ],
   "source": [
    "!ls"
   ]
  },
  {
   "cell_type": "code",
   "execution_count": 2,
   "metadata": {
    "collapsed": false
   },
   "outputs": [],
   "source": [
    "!cd .."
   ]
  },
  {
   "cell_type": "code",
   "execution_count": 3,
   "metadata": {
    "collapsed": false
   },
   "outputs": [
    {
     "name": "stdout",
     "output_type": "stream",
     "text": [
      "CalibMuon\t    Untitled.ipynb  pickevents_26.root\t   runFullChain.sh\r\n",
      "DUMMYFILENAME.root  diff.txt\t    push.sh\t\t   test\r\n",
      "DataFormats\t    eventList.txt   reco_RAW2DIGI_RECO.py  untitled.txt\r\n",
      "GifDisplay\t    gifDisplay.py   rootMakerDiff.txt\t   useCmsDriver.sh\r\n",
      "RecoLocalMuon\t    log.txt\t    run.sh\r\n",
      "UFCSCRootMaker.py   output.txt\t    runAnalysis.sh\r\n",
      "UFCSCSoftware\t    parseOutput.sh  runDisplay.sh\r\n"
     ]
    }
   ],
   "source": [
    "!ls"
   ]
  },
  {
   "cell_type": "code",
   "execution_count": 9,
   "metadata": {
    "collapsed": false
   },
   "outputs": [
    {
     "name": "stdout",
     "output_type": "stream",
     "text": [
      "/raid/raid8/mhl/CSC_Run2/CMSSW_dev/analysisCode_github/CSCLocalReco/tmpRootPlots/plots\n",
      "CSCresult_eff_all.root\t\t  doAll.sh\t    makeplots.py\r\n",
      "CSCresult_eff_narrow_flip.root\t  doRatio.py\t    plotSegLumi.py\r\n",
      "CSCresult_eff_narrow_layer3.root  doSummary.py\t    plotUsingLib.py\r\n",
      "CSCresult_eff_narrow_noflip.root  doSummary.sh\t    quickPlot.py\r\n",
      "CSCresult_eff_select.root\t  doSummary2.py     tdrStyle.py\r\n",
      "CSCresult_eff_summary.root\t  doSummary_uf.py   tdrStyle.pyc\r\n",
      "CSCresult_eff_ucla.root\t\t  doSummary_uf2.py  usedFiles\r\n",
      "CSCresult_eff_uf.root\t\t  lib\r\n"
     ]
    }
   ],
   "source": [
    "%cd CMSSW_dev/analysisCode_github/CSCLocalReco/tmpRootPlots/plots/\n",
    "!ls"
   ]
  },
  {
   "cell_type": "code",
   "execution_count": 10,
   "metadata": {
    "collapsed": false
   },
   "outputs": [
    {
     "name": "stdout",
     "output_type": "stream",
     "text": [
      "TH1F::Sumw2:0: RuntimeWarning: Sum of squares of weights structure already created\n",
      "TH1F::Sumw2:0: RuntimeWarning: Sum of squares of weights structure already created\n",
      "TH1F::Sumw2:0: RuntimeWarning: Sum of squares of weights structure already created\n",
      "1.0 0.0 0.0\n",
      "1.0 0.0 0.0\n",
      "1.0 0.0 0.0\n",
      "0.945927931681 0.0540720683191 0.00145970353832\n",
      "1.0 0.0 0.0\n",
      "1.0 0.0 0.0\n",
      "0.996180739174 0.00381926082614 0.000472815505452\n",
      "0.767999409855 0.232000590145 0.00362542735973\n",
      "1.0 0.0 0.0\n",
      "1.0 0.0 0.0\n",
      "1.0 0.0 0.0\n",
      "0.776377952756 0.223622047244 0.00826755415256\n",
      "1.0 0.0 0.0\n",
      "0.996252082177 0.00374791782343 0.000719934190132\n",
      "0.873826742576 0.126173257424 0.00411882229681\n",
      "0.201361867704 0.798638132296 0.00625370057642\n",
      "1.0 0.0 0.0\n",
      "0.953282319774 0.0467176802255 0.00423509390338\n",
      "0.806506849315 0.193493150685 0.00731047173775\n",
      "0.295464179737 0.704535820263 0.00939377140311\n",
      "Info in <TCanvas::Print>: png file /home/mhl/public_html/2018/20180320_clct/summary_narrow_layer3.png has been created\n",
      "Info in <TCanvas::Print>: pdf file /home/mhl/public_html/2018/20180320_clct/summary_narrow_layer3.pdf has been created\n",
      "1.0 0.0 0.0\n",
      "1.0 0.0 0.0\n",
      "1.0 0.0 0.0\n",
      "0.945927931681 0.0540720683191 0.00145970353832\n",
      "1.0 0.0 0.0\n",
      "1.0 0.0 0.0\n",
      "0.996180739174 0.00381926082614 0.000472815505452\n",
      "0.767999409855 0.232000590145 0.00362542735973\n",
      "1.0 0.0 0.0\n",
      "1.0 0.0 0.0\n",
      "1.0 0.0 0.0\n",
      "0.776377952756 0.223622047244 0.00826755415256\n",
      "1.0 0.0 0.0\n",
      "0.996252082177 0.00374791782343 0.000719934190132\n",
      "0.873826742576 0.126173257424 0.00411882229681\n",
      "0.201361867704 0.798638132296 0.00625370057642\n",
      "1.0 0.0 0.0\n",
      "0.953282319774 0.0467176802255 0.00423509390338\n",
      "0.806506849315 0.193493150685 0.00731047173775\n",
      "0.295464179737 0.704535820263 0.00939377140311\n",
      "Info in <TCanvas::Print>: png file /home/mhl/public_html/2018/20180320_clct/summary2_narrow_layer3.png has been created\n",
      "Info in <TCanvas::Print>: pdf file /home/mhl/public_html/2018/20180320_clct/summary2_narrow_layer3.pdf has been created\n"
     ]
    }
   ],
   "source": [
    "!./doSummary.sh"
   ]
  },
  {
   "cell_type": "code",
   "execution_count": 12,
   "metadata": {
    "collapsed": false
   },
   "outputs": [
    {
     "name": "stdout",
     "output_type": "stream",
     "text": [
      "\n",
      "Automagic is ON, % prefix IS NOT needed for line magics.\n"
     ]
    }
   ],
   "source": [
    "%automagic"
   ]
  },
  {
   "cell_type": "code",
   "execution_count": 13,
   "metadata": {
    "collapsed": false
   },
   "outputs": [
    {
     "name": "stdout",
     "output_type": "stream",
     "text": [
      "CSCresult_eff_all.root            \u001b[0m\u001b[01;32mdoAll.sh\u001b[0m*         makeplots.py\r\n",
      "CSCresult_eff_narrow_flip.root    doRatio.py        plotSegLumi.py\r\n",
      "CSCresult_eff_narrow_layer3.root  doSummary.py      plotUsingLib.py\r\n",
      "CSCresult_eff_narrow_noflip.root  \u001b[01;32mdoSummary.sh\u001b[0m*     quickPlot.py\r\n",
      "CSCresult_eff_select.root         doSummary2.py     \u001b[01;32mtdrStyle.py\u001b[0m*\r\n",
      "CSCresult_eff_summary.root        doSummary_uf.py   tdrStyle.pyc\r\n",
      "CSCresult_eff_ucla.root           doSummary_uf2.py  \u001b[01;34musedFiles\u001b[0m/\r\n",
      "CSCresult_eff_uf.root             \u001b[01;34mlib\u001b[0m/\r\n",
      "\u001b[m"
     ]
    }
   ],
   "source": [
    "ls"
   ]
  },
  {
   "cell_type": "code",
   "execution_count": 15,
   "metadata": {
    "collapsed": false
   },
   "outputs": [
    {
     "name": "stdout",
     "output_type": "stream",
     "text": [
      "TFile**\t\tCSCresult_eff_narrow_layer3.root\t\n",
      " TFile*\t\tCSCresult_eff_narrow_layer3.root\t\n",
      "  KEY: TH2F\tnCLCT_lumi_ME11a;1\t\n",
      "  KEY: TH2F\tnCLCT_lumi_ME11b;1\t\n",
      "  KEY: TH2F\tnCLCT_lumi_ME12;1\t\n",
      "  KEY: TH2F\tnCLCT_lumi_ME13;1\t\n",
      "  KEY: TH2F\tnCLCT_lumi_ME21;1\t\n",
      "  KEY: TH2F\tnCLCT_lumi_ME22;1\t\n",
      "  KEY: TH2F\tnCLCT_lumi_ME31;1\t\n",
      "  KEY: TH2F\tnCLCT_lumi_ME32;1\t\n",
      "  KEY: TH2F\tnCLCT_lumi_ME41;1\t\n",
      "  KEY: TH2F\tnCLCT_lumi_ME42;1\t\n",
      "  KEY: TH2F\tnCLCT_lumi_ME11a_w;1\t\n",
      "  KEY: TH2F\tnCLCT_lumi_ME11b_w;1\t\n",
      "  KEY: TH2F\tnCLCT_lumi_ME12_w;1\t\n",
      "  KEY: TH2F\tnCLCT_lumi_ME13_w;1\t\n",
      "  KEY: TH2F\tnCLCT_lumi_ME21_w;1\t\n",
      "  KEY: TH2F\tnCLCT_lumi_ME22_w;1\t\n",
      "  KEY: TH2F\tnCLCT_lumi_ME31_w;1\t\n",
      "  KEY: TH2F\tnCLCT_lumi_ME32_w;1\t\n",
      "  KEY: TH2F\tnCLCT_lumi_ME41_w;1\t\n",
      "  KEY: TH2F\tnCLCT_lumi_ME42_w;1\t\n",
      "  KEY: TH2F\tnCLCT_lumi_ME11a_ucla;1\t\n",
      "  KEY: TH2F\tnCLCT_lumi_ME11b_ucla;1\t\n",
      "  KEY: TH2F\tnCLCT_lumi_ME12_ucla;1\t\n",
      "  KEY: TH2F\tnCLCT_lumi_ME13_ucla;1\t\n",
      "  KEY: TH2F\tnCLCT_lumi_ME21_ucla;1\t\n",
      "  KEY: TH2F\tnCLCT_lumi_ME22_ucla;1\t\n",
      "  KEY: TH2F\tnCLCT_lumi_ME31_ucla;1\t\n",
      "  KEY: TH2F\tnCLCT_lumi_ME32_ucla;1\t\n",
      "  KEY: TH2F\tnCLCT_lumi_ME41_ucla;1\t\n",
      "  KEY: TH2F\tnCLCT_lumi_ME42_ucla;1\t\n",
      "  KEY: TH1F\teff_layer6_test;1\t\n",
      "  KEY: TH1F\teff_layer5_test;1\t\n",
      "  KEY: TH1F\teff_layer4_test;1\t\n",
      "  KEY: TH1F\teff_layer3_test;1\t\n",
      "  KEY: TH1F\tnHitsPerCLCT_narrow;1\t\n",
      "  KEY: TH1F\tnHitsPerCLCT_wide;1\t\n",
      "  KEY: TH1F\teff_layer6;1\t\n",
      "  KEY: TH1F\teff_layer5;1\t\n",
      "  KEY: TH1F\teff_layer4;1\t\n",
      "  KEY: TH1F\teff_layer3;1\t\n",
      "  KEY: TH1F\teff_layer6_narrow;1\t\n",
      "  KEY: TH1F\teff_layer5_narrow;1\t\n",
      "  KEY: TH1F\teff_layer4_narrow;1\t\n",
      "  KEY: TH1F\tnTotal;1\t\n",
      "  KEY: TH1F\tnTotal_wideHasLess;1\t\n",
      "  KEY: TH1F\tnCLCT_wide_rank_123_layer_56;1\t\n",
      "  KEY: TH1F\tnCLCT_narrow_rank_123_layer_56;1\t\n",
      "  KEY: TH1F\tnCLCT_wide_rank_123_layer_4;1\t\n",
      "  KEY: TH1F\tnCLCT_narrow_rank_123_layer_4;1\t\n",
      "  KEY: TH1F\tnCLCT_wide_rank_45_layer_56;1\t\n",
      "  KEY: TH1F\tnCLCT_narrow_rank_45_layer_56;1\t\n",
      "  KEY: TH1F\tnCLCT_wide;1\t\n",
      "  KEY: TH1F\tnCLCT_narrow;1\t\n",
      "  KEY: TH1F\tnCLCT_wide_rank_1_2;1\t\n",
      "  KEY: TH1F\tnCLCT_narrow_rank_1_2;1\t\n",
      "  KEY: TH1F\tnCLCT_wide_layer_6;1\t\n",
      "  KEY: TH1F\tnCLCT_narrow_layer_6;1\t\n",
      "  KEY: TH1F\tnCLCT_wide_layer_5;1\t\n",
      "  KEY: TH1F\tnCLCT_narrow_layer_5;1\t\n"
     ]
    }
   ],
   "source": [
    "import ROOT\n",
    "f = ROOT.TFile.Open(\"CSCresult_eff_narrow_layer3.root\")\n",
    "f.ls()"
   ]
  },
  {
   "cell_type": "code",
   "execution_count": 18,
   "metadata": {
    "collapsed": false,
    "scrolled": true
   },
   "outputs": [
    {
     "data": {
      "image/png": "[encoded data removed]",
      "text/plain": [
       "<IPython.core.display.Image object>"
      ]
     },
     "metadata": {},
     "output_type": "display_data"
    }
   ],
   "source": [
    "c = ROOT.TCanvas(\"c\",\"\",800,800)\n",
    "h = f.Get(\"eff_layer6_test\")\n",
    "h.Draw()\n",
    "c.Draw()"
   ]
  },
  {
   "cell_type": "code",
   "execution_count": null,
   "metadata": {
    "collapsed": true
   },
   "outputs": [],
   "source": []
  }
 ],
 "metadata": {
  "kernelspec": {
   "display_name": "Python 2",
   "language": "python",
   "name": "python2"
  },
  "language_info": {
   "codemirror_mode": {
    "name": "ipython",
    "version": 2
   },
   "file_extension": ".py",
   "mimetype": "text/x-python",
   "name": "python",
   "nbconvert_exporter": "python",
   "pygments_lexer": "ipython2",
   "version": "2.7.11"
  }
 },
 "nbformat": 4,
 "nbformat_minor": 2
}
